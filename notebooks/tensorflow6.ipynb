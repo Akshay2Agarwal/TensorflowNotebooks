{
 "cells": [
  {
   "cell_type": "code",
   "execution_count": 1,
   "metadata": {
    "collapsed": true
   },
   "outputs": [],
   "source": [
    "# AutoEncoders\n",
    "import tensorflow as tf\n",
    "\n",
    "\n",
    "class AutoEncoder:\n",
    "    def __init__(self, input_dim, hidden_dim, learning_rate=0.01, epochs=250):\n",
    "        self.epochs = epochs\n",
    "        self.learning_rate = learning_rate\n",
    "        \n",
    "        x = tf.placeholder(tf.float32, shape=[None, input_dim])\n",
    "        \n",
    "        with tf.name_scope('encode'):\n",
    "            weights = tf.random.normal([input_dim, hidden_dim], dtype=tf.float32, name=\"weights\")\n",
    "            biases = tf.Variable(tf.zeros([hidden_dim], dtype=tf.float32, name=\"biases\"))\n",
    "            encoded = tf.nn.tanh(tf.add(tf.matmul(x, weights), biases))\n",
    "            \n",
    "        with tf.name_scope('decode'):\n",
    "            weights = tf.random.normal([hidden_dim, input_dim], dtype=tf.float32, name=\"weights\")\n",
    "            biases = tf.Variable(tf.zeros([input_dim], dtype=tf.float32, name=\"biases\"))\n",
    "            decoded = tf.matmul(encoded, weights) + biases\n",
    "            \n",
    "        self.x = x\n",
    "        self.encoded = encoded\n",
    "        self.decoded = decoded\n",
    "        \n",
    "        self.loss = tf.sqrt(tf.reduce_mean(tf.square(tf.subtract(self.x, decoded))))\n",
    "        self.train_op = tf.train.RMSPropOptimizer(self.learning_rate).minimize(self.loss)\n",
    "        self.saver = tf.train.Saver()\n",
    "        \n",
    "    def train(self, data):\n",
    "        num_samples = len(data)\n",
    "        with tf.Session() as sess:\n",
    "            sess.run(tf.global_variables_initializer())\n",
    "            for ep in range(self.epochs):\n",
    "                for i in range(num_samples):\n",
    "                    loss, _ = sess.run([self.loss, self.train_op], feed_dict={self.x: [data[i]]})\n",
    "                if self.epochs % 10 == 0:\n",
    "                    print(\"epoch : {0}, loss: {1}\".format(ep, loss))\n",
    "            self.saver.save(sess, '/tmp/autoencoder.ckpt')\n",
    "    \n",
    "    def test(self, data):\n",
    "        with tf.Session() as sess:\n",
    "            self.saver.restore(sess, '/tmp/autoencoder.ckpt')\n",
    "            hidden, reconstructed = sess.run([self.encoded, self.decoded], feed_dict={self.x: data})\n",
    "        print('input', data)\n",
    "        print('compresses', hidden)\n",
    "        print('output', reconstructed)\n",
    "        return reconstructed\n"
   ]
  },
  {
   "cell_type": "code",
   "execution_count": null,
   "metadata": {},
   "outputs": [],
   "source": [
    "from sklearn import datasets\n",
    "\n",
    "hidden_dim = 1\n",
    "data = datasets.load_iris().data\n",
    "input_dim = len(data[0])\n",
    "\n",
    "ae = AutoEncoder(input_dim, hidden_dim)\n",
    "ae.train(data)\n",
    "\n",
    "ae.test([[2, 4, 6, 8]])\n",
    "\n",
    "\n",
    "\n",
    "\n"
   ]
  }
 ],
 "metadata": {
  "kernelspec": {
   "display_name": "Python 2",
   "language": "python",
   "name": "python2"
  },
  "language_info": {
   "codemirror_mode": {
    "name": "ipython",
    "version": 2
   },
   "file_extension": ".py",
   "mimetype": "text/x-python",
   "name": "python",
   "nbconvert_exporter": "python",
   "pygments_lexer": "ipython2",
   "version": "2.7.6"
  }
 },
 "nbformat": 4,
 "nbformat_minor": 0
}
