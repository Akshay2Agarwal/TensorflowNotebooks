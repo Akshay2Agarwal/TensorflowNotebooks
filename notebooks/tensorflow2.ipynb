{
 "cells": [
  {
   "cell_type": "code",
   "execution_count": 1,
   "metadata": {
    "collapsed": false
   },
   "outputs": [],
   "source": [
    "import matplotlib.pyplot as plt\n",
    "import numpy as np\n",
    "\n",
    "x_train = np.linspace(-1, 1, 101)\n",
    "y_train = 2 * x_train + np.random.randn(*x_train.shape)\n",
    "plt.scatter(x_train, y_train)\n",
    "plt.show()"
   ]
  },
  {
   "cell_type": "code",
   "execution_count": null,
   "metadata": {},
   "outputs": [],
   "source": [
    "#Logistic regression\n",
    "import tensorflow as tf\n",
    "import numpy as np\n",
    "import matplotlib.pyplot as plt\n",
    "\n",
    "x_train = np.linspace(-1, 1, 101)\n",
    "y_train = 2 * x_train + np.random.randn(*x_train.shape) * 0.33\n",
    "\n",
    "X = tf.placeholder(tf.float32)\n",
    "Y = tf.placeholder(tf.float32)\n",
    "\n",
    "learning_rate = 0.01\n",
    "training_epochs = 100\n",
    "\n",
    "w = tf.Variable(0.0)\n",
    "\n",
    "\n",
    "def model(X, w):\n",
    "    return tf.multiply(X, w)\n",
    "\n",
    "\n",
    "y_model = model(X, w)\n",
    "cost = tf.square(Y-y_model)\n",
    "train_operation = tf.train.GradientDescentOptimizer(learning_rate).minimize(cost)\n",
    "\n",
    "sess = tf.Session()\n",
    "\n",
    "init = tf.global_variables_initializer()\n",
    "sess.run(init)\n",
    "\n",
    "for epoch in range(training_epochs):\n",
    "    for (x, y) in zip(x_train, y_train):\n",
    "        sess.run(train_operation, feed_dict={X: x, Y: y})\n",
    "\n",
    "w_val = sess.run(w)\n",
    "\n",
    "sess.close()\n",
    "\n",
    "plt.scatter(x_train, y_train)\n",
    "y_learned = w * x_train\n",
    "\n",
    "plt.plot(x_train, y_train, 'r')\n",
    "plt.show()"
   ]
  },
  {
   "cell_type": "code",
   "execution_count": 13,
   "metadata": {},
   "outputs": [
    {
     "data": {
      "image/png": "[encoded data removed]",
      "text/plain": [
       "<Figure size 432x288 with 1 Axes>"
      ]
     },
     "metadata": {},
     "output_type": "display_data"
    },
    {
     "name": "stdout",
     "output_type": "stream",
     "text": [
      "[ 1.01377261  0.50536656  3.67439485  6.30424261  4.08688498  6.3130908 ]\n"
     ]
    },
    {
     "data": {
      "image/png": "[encoded data removed]",
      "text/plain": [
       "<Figure size 432x288 with 1 Axes>"
      ]
     },
     "metadata": {},
     "output_type": "display_data"
    }
   ],
   "source": [
    "#Polynomial Regression\n",
    "import tensorflow as tf\n",
    "import numpy as np\n",
    "import matplotlib.pyplot as plt\n",
    "\n",
    "learning_rate = 0.01\n",
    "training_epochs = 100\n",
    "\n",
    "tr_x = np.linspace(-1, 1, 101)\n",
    "no_of_coeffs = 6\n",
    "tr_c = [i for i in range(1, no_of_coeffs+1)]\n",
    "tr_y = 0\n",
    "for i in range(no_of_coeffs):\n",
    "    tr_y += tr_c[i] * np.power(tr_x, i)\n",
    "\n",
    "tr_y += np.random.randn(*tr_x.shape) * 1.5\n",
    "\n",
    "plt.scatter(tr_x, tr_y)\n",
    "plt.show()\n",
    "\n",
    "X = tf.placeholder(tf.float32)\n",
    "Y = tf.placeholder(tf.float32)\n",
    "\n",
    "\n",
    "def model(X, w):\n",
    "    terms = []\n",
    "    for i in range(no_of_coeffs):\n",
    "        terms.append(tf.multiply(w[i], tf.pow(X, i)))\n",
    "    return tf.add_n(terms)\n",
    "\n",
    "\n",
    "w = tf.Variable([0.]*no_of_coeffs, name=\"wt_parameters\")\n",
    "\n",
    "y_model = model(X, w)\n",
    "cost = tf.square(Y-y_model)\n",
    "train_op = tf.train.GradientDescentOptimizer(learning_rate, ).minimize(cost)\n",
    "\n",
    "sess = tf.Session()\n",
    "init = tf.global_variables_initializer()\n",
    "sess.run(init)\n",
    "\n",
    "for _ in range(training_epochs):\n",
    "    for (x, y) in zip(tr_x, tr_y):\n",
    "        sess.run(train_op, feed_dict={X: x, Y: y})\n",
    "\n",
    "w_val = sess.run(w)\n",
    "sess.close()\n",
    "print(w_val)\n",
    "\n",
    "plt.scatter(tr_x, tr_y)\n",
    "test_y = 0\n",
    "for i in range(no_of_coeffs):\n",
    "    test_y += w_val[i] * np.power(tr_x, i)\n",
    "plt.plot(tr_x, test_y, 'r')\n",
    "plt.show()"
   ]
  },
  {
   "cell_type": "code",
   "execution_count": 3,
   "metadata": {},
   "outputs": [
    {
     "name": "stdout",
     "output_type": "stream",
     "text": [
      "reg lambda 0.0\nfinal cost 0.03969051\nreg lambda 0.010101010101010102\nfinal cost 0.030102331\nreg lambda 0.020202020202020204\nfinal cost 0.026081754\nreg lambda 0.030303030303030304\nfinal cost 0.02384592\n"
     ]
    },
    {
     "name": "stdout",
     "output_type": "stream",
     "text": [
      "reg lambda 0.04040404040404041\nfinal cost 0.022451945\nreg lambda 0.05050505050505051\nfinal cost 0.021540502\nreg lambda 0.06060606060606061\nfinal cost 0.020931115\nreg lambda 0.07070707070707072\nfinal cost 0.02051831\nreg lambda 0.08080808080808081\nfinal cost 0.02023572\nreg lambda 0.09090909090909091\nfinal cost 0.020040134\n"
     ]
    },
    {
     "name": "stdout",
     "output_type": "stream",
     "text": [
      "reg lambda 0.10101010101010102\nfinal cost 0.019902995\nreg lambda 0.11111111111111112\nfinal cost 0.019805275\nreg lambda 0.12121212121212122\nfinal cost 0.019734252\nreg lambda 0.13131313131313133\nfinal cost 0.019681385\nreg lambda 0.14141414141414144\nfinal cost 0.019640945\n"
     ]
    },
    {
     "name": "stdout",
     "output_type": "stream",
     "text": [
      "reg lambda 0.15151515151515152\nfinal cost 0.019609036\nreg lambda 0.16161616161616163\nfinal cost 0.019583045\nreg lambda 0.17171717171717174\nfinal cost 0.019561185\nreg lambda 0.18181818181818182\nfinal cost 0.019542236\nreg lambda 0.19191919191919193\nfinal cost 0.019525368\n"
     ]
    },
    {
     "name": "stdout",
     "output_type": "stream",
     "text": [
      "reg lambda 0.20202020202020204\nfinal cost 0.019510003\nreg lambda 0.21212121212121213\nfinal cost 0.01949575\nreg lambda 0.22222222222222224\nfinal cost 0.019482326\nreg lambda 0.23232323232323235\nfinal cost 0.01946954\nreg lambda 0.24242424242424243\nfinal cost 0.019457262\nreg lambda 0.25252525252525254\nfinal cost 0.019445386\nreg lambda 0.26262626262626265\nfinal cost 0.019433847\n"
     ]
    },
    {
     "name": "stdout",
     "output_type": "stream",
     "text": [
      "reg lambda 0.27272727272727276\nfinal cost 0.019422598\nreg lambda 0.2828282828282829\nfinal cost 0.019411601\nreg lambda 0.29292929292929293\nfinal cost 0.019400835\nreg lambda 0.30303030303030304\nfinal cost 0.019390276\nreg lambda 0.31313131313131315\nfinal cost 0.019379912\nreg lambda 0.32323232323232326\nfinal cost 0.019369733\nreg lambda 0.33333333333333337\nfinal cost 0.019359732\n"
     ]
    },
    {
     "name": "stdout",
     "output_type": "stream",
     "text": [
      "reg lambda 0.3434343434343435\nfinal cost 0.019349903\nreg lambda 0.3535353535353536\nfinal cost 0.01934024\nreg lambda 0.36363636363636365\nfinal cost 0.01933074\nreg lambda 0.37373737373737376\nfinal cost 0.019321403\nreg lambda 0.38383838383838387\nfinal cost 0.01931222\nreg lambda 0.393939393939394\nfinal cost 0.019303195\nreg lambda 0.4040404040404041\nfinal cost 0.019294325\n"
     ]
    },
    {
     "name": "stdout",
     "output_type": "stream",
     "text": [
      "reg lambda 0.4141414141414142\nfinal cost 0.01928561\nreg lambda 0.42424242424242425\nfinal cost 0.019277044\nreg lambda 0.43434343434343436\nfinal cost 0.019268626\nreg lambda 0.4444444444444445\nfinal cost 0.019260358\nreg lambda 0.4545454545454546\nfinal cost 0.019252235\nreg lambda 0.4646464646464647\nfinal cost 0.01924426\nreg lambda 0.4747474747474748\nfinal cost 0.019236425\n"
     ]
    },
    {
     "name": "stdout",
     "output_type": "stream",
     "text": [
      "reg lambda 0.48484848484848486\nfinal cost 0.019228734\nreg lambda 0.494949494949495\nfinal cost 0.019221183\nreg lambda 0.5050505050505051\nfinal cost 0.019213771\nreg lambda 0.5151515151515152\nfinal cost 0.0192065\nreg lambda 0.5252525252525253\nfinal cost 0.019199362\nreg lambda 0.5353535353535354\nfinal cost 0.019192355\nreg lambda 0.5454545454545455\nfinal cost 0.019185478\n"
     ]
    },
    {
     "name": "stdout",
     "output_type": "stream",
     "text": [
      "reg lambda 0.5555555555555556\nfinal cost 0.019178737\nreg lambda 0.5656565656565657\nfinal cost 0.019172123\nreg lambda 0.5757575757575758\nfinal cost 0.019165633\nreg lambda 0.5858585858585859\nfinal cost 0.019159267\nreg lambda 0.595959595959596\nfinal cost 0.019153027\nreg lambda 0.6060606060606061\nfinal cost 0.019146906\nreg lambda 0.6161616161616162\nfinal cost 0.019140897\n"
     ]
    },
    {
     "name": "stdout",
     "output_type": "stream",
     "text": [
      "reg lambda 0.6262626262626263\nfinal cost 0.019135015\nreg lambda 0.6363636363636365\nfinal cost 0.019129245\nreg lambda 0.6464646464646465\nfinal cost 0.019123586\nreg lambda 0.6565656565656566\nfinal cost 0.01911804\nreg lambda 0.6666666666666667\nfinal cost 0.0191126\nreg lambda 0.6767676767676768\nfinal cost 0.019107273\nreg lambda 0.686868686868687\nfinal cost 0.019102046\n"
     ]
    },
    {
     "name": "stdout",
     "output_type": "stream",
     "text": [
      "reg lambda 0.696969696969697\nfinal cost 0.019096926\nreg lambda 0.7070707070707072\nfinal cost 0.019091906\nreg lambda 0.7171717171717172\nfinal cost 0.019086989\nreg lambda 0.7272727272727273\nfinal cost 0.019082168\nreg lambda 0.7373737373737375\nfinal cost 0.019077437\nreg lambda 0.7474747474747475\nfinal cost 0.019072808\n"
     ]
    },
    {
     "name": "stdout",
     "output_type": "stream",
     "text": [
      "reg lambda 0.7575757575757577\nfinal cost 0.019068269\nreg lambda 0.7676767676767677\nfinal cost 0.019063825\nreg lambda 0.7777777777777778\nfinal cost 0.019059462\nreg lambda 0.787878787878788\nfinal cost 0.019055197\nreg lambda 0.797979797979798\nfinal cost 0.019051006\nreg lambda 0.8080808080808082\nfinal cost 0.019046908\n"
     ]
    },
    {
     "name": "stdout",
     "output_type": "stream",
     "text": [
      "reg lambda 0.8181818181818182\nfinal cost 0.019042887\nreg lambda 0.8282828282828284\nfinal cost 0.019038947\nreg lambda 0.8383838383838385\nfinal cost 0.019035092\nreg lambda 0.8484848484848485\nfinal cost 0.019031305\nreg lambda 0.8585858585858587\nfinal cost 0.019027606\n"
     ]
    },
    {
     "name": "stdout",
     "output_type": "stream",
     "text": [
      "reg lambda 0.8686868686868687\nfinal cost 0.01902397\nreg lambda 0.8787878787878789\nfinal cost 0.019020418\nreg lambda 0.888888888888889\nfinal cost 0.01901693\nreg lambda 0.8989898989898991\nfinal cost 0.019013515\nreg lambda 0.9090909090909092\nfinal cost 0.019010166\nreg lambda 0.9191919191919192\nfinal cost 0.019006882\n"
     ]
    },
    {
     "name": "stdout",
     "output_type": "stream",
     "text": [
      "reg lambda 0.9292929292929294\nfinal cost 0.01900367\nreg lambda 0.9393939393939394\nfinal cost 0.019000519\nreg lambda 0.9494949494949496\nfinal cost 0.01899743\nreg lambda 0.9595959595959597\nfinal cost 0.018994408\nreg lambda 0.9696969696969697\nfinal cost 0.018991439\n"
     ]
    },
    {
     "name": "stdout",
     "output_type": "stream",
     "text": [
      "reg lambda 0.9797979797979799\nfinal cost 0.018988533\nreg lambda 0.98989898989899\nfinal cost 0.018985687\nreg lambda 1.0\nfinal cost 0.018982891\n"
     ]
    }
   ],
   "source": [
    "import tensorflow as tf\n",
    "import numpy as np\n",
    "\n",
    "\n",
    "def split_datasets(x_dataset, y_dataset, ratio):\n",
    "    arr = np.arange(x_dataset.size)\n",
    "    np.random.shuffle(arr)\n",
    "    num_train = int(ratio * x_dataset.size)\n",
    "    x_train = x_dataset[arr[0:num_train]]\n",
    "    y_train = y_dataset[arr[0:num_train]]\n",
    "    x_test = x_dataset[arr[num_train:x_dataset.size]]\n",
    "    y_test = y_dataset[arr[num_train:y_dataset.size]]\n",
    "    \n",
    "    return x_train, x_test, y_train, y_test\n",
    "\n",
    "\n",
    "learning_rate = 0.01\n",
    "training_epochs = 100\n",
    "reg_lambda = 0.\n",
    "\n",
    "x_dataset = np.linspace(-1, 1, 101)\n",
    "num_coeffs = 9\n",
    "y_params = [0.]*num_coeffs\n",
    "y_params[2] = 1\n",
    "y_dataset = 0\n",
    "for i in range(num_coeffs):\n",
    "    y_dataset += y_params[i]*np.power(x_dataset, i)\n",
    "y_dataset += np.random.randn(*x_dataset.shape)*0.3\n",
    "\n",
    "x_train, x_test, y_train, y_test = split_datasets(x_dataset, y_dataset, 0.7)\n",
    "\n",
    "X = tf.placeholder(tf.float32)\n",
    "Y = tf.placeholder(tf.float32)\n",
    "\n",
    "\n",
    "def model(X, w):\n",
    "    terms = []\n",
    "    for i in range(num_coeffs):\n",
    "        terms.append(tf.multiply(w[i], tf.pow(X, i)))\n",
    "    return tf.add_n(terms)\n",
    "\n",
    "\n",
    "w = tf.Variable([0.]*num_coeffs, name=\"weight_params\")\n",
    "\n",
    "y_model = model(X, w)\n",
    "cost = tf.div(tf.add(tf.reduce_sum(tf.square(Y-y_model)),\n",
    "                     tf.multiply(reg_lambda, tf.reduce_sum(tf.square(w)))),\n",
    "              2*x_train.size)\n",
    "train_op = tf.train.GradientDescentOptimizer(learning_rate).minimize(cost)\n",
    "\n",
    "sess = tf.Session()\n",
    "init = tf.global_variables_initializer()\n",
    "sess.run(init)\n",
    "\n",
    "for reg_lambda in np.linspace(0, 1, 100):\n",
    "    for epoch in range(training_epochs):\n",
    "        sess.run(train_op, feed_dict={X: x_train, Y: y_train})\n",
    "    final_cost = sess.run(cost, feed_dict = {X: x_test, Y:y_test})\n",
    "    print('reg lambda', reg_lambda) \n",
    "    print('final cost', final_cost)\n",
    "\n",
    "sess.close()\n"
   ]
  },
  {
   "cell_type": "code",
   "execution_count": 15,
   "metadata": {},
   "outputs": [
    {
     "name": "stdout",
     "output_type": "stream",
     "text": [
      "0 8.59892\n100 2.74806\n"
     ]
    },
    {
     "name": "stdout",
     "output_type": "stream",
     "text": [
      "200 1.46494\n300 1.1765\n"
     ]
    },
    {
     "name": "stdout",
     "output_type": "stream",
     "text": [
      "400 1.11166\n500 1.09708\n"
     ]
    },
    {
     "name": "stdout",
     "output_type": "stream",
     "text": [
      "600 1.09381\n700 1.09307\n"
     ]
    },
    {
     "name": "stdout",
     "output_type": "stream",
     "text": [
      "800 1.09291\n900 1.09287\n"
     ]
    },
    {
     "name": "stdout",
     "output_type": "stream",
     "text": [
      "learned parameters [ 1.39677393 -0.24769135]\n"
     ]
    },
    {
     "data": {
      "image/png": "[encoded data removed]",
      "text/plain": [
       "<Figure size 432x288 with 1 Axes>"
      ]
     },
     "metadata": {},
     "output_type": "display_data"
    },
    {
     "name": "stdout",
     "output_type": "stream",
     "text": [
      "accuracy 0.95\n"
     ]
    }
   ],
   "source": [
    "# Linear regression\n",
    "import tensorflow as tf\n",
    "import numpy as np\n",
    "import matplotlib.pyplot as plt\n",
    "\n",
    "x_label0 = np.random.normal(5, 1, 10)\n",
    "x_label1 = np.random.normal(2, 1, 10)\n",
    "xs = np.append(x_label0, x_label1)\n",
    "labels = [0.] * len(x_label0) + [1.] * len(x_label1)\n",
    "plt.scatter(xs, labels)\n",
    "\n",
    "learning_rate = 0.001 \n",
    "training_epochs = 1000 \n",
    "X = tf.placeholder(\"float\")\n",
    "Y = tf.placeholder(\"float\")\n",
    "\n",
    "\n",
    "def model(X, w):\n",
    "    return tf.add(tf.multiply(w[1], tf.pow(X, 1)), tf.multiply(w[0], tf.pow(X, 0)))\n",
    "\n",
    "\n",
    "w = tf.Variable([0., 0.], name=\"parameters\")\n",
    "y_model = model(X, w)\n",
    "cost = tf.reduce_sum(tf.square(Y - y_model))\n",
    "train_op = tf.train.GradientDescentOptimizer(learning_rate).minimize(cost)\n",
    "\n",
    "sess = tf.Session()\n",
    "init = tf.global_variables_initializer()\n",
    "sess.run(init)\n",
    "\n",
    "for epoch in range(training_epochs):\n",
    "    sess.run(train_op, feed_dict={X: xs, Y: labels})\n",
    "    current_cost = sess.run(cost, feed_dict={X: xs, Y:labels})\n",
    "    if epoch % 100 == 0:\n",
    "        print(epoch, current_cost)\n",
    "\n",
    "w_val = sess.run(w)\n",
    "print(\"learned parameters\", w_val)\n",
    "\n",
    "\n",
    "x_test = np.linspace(0, 10, 100)\n",
    "y_test = x_test*w_val[1] + w_val[0]\n",
    "plt.plot(x_test, y_test)\n",
    "plt.show()\n",
    "\n",
    "\n",
    "#Measuring accuracy\n",
    "correct_prediction = tf.equal(tf.greater(Y, 0.5), tf.greater(y_model, 0.5))\n",
    "accuracy = tf.reduce_mean(tf.to_float(correct_prediction))\n",
    "print('accuracy', sess.run(accuracy, feed_dict={X: xs, Y: labels}))\n",
    "\n",
    "sess.close()"
   ]
  },
  {
   "cell_type": "code",
   "execution_count": 4,
   "metadata": {},
   "outputs": [],
   "source": [
    "import tensorflow as tf\n",
    "import numpy as np\n",
    "import matplotlib.pyplot as plt\n",
    "\n",
    "learning_rate = 0.001\n",
    "training_epochs = 1000\n",
    "\n",
    "\n",
    "def sigmoid(x):\n",
    "    return 1. / (1. + np.exp(-x))\n",
    "\n",
    "\n",
    "x1 = np.random.normal(-4, 2, 10)\n",
    "x2 = np.random.normal(4, 2, 10)\n",
    "\n",
    "xs = np.append(x1, x2)\n",
    "ys = np.asarray([0.] * len(x1) + [1.] * len(x2))\n",
    "\n",
    "plt.scatter(xs, ys)\n",
    "\n",
    "X = tf.placeholder(tf.float32, name=\"x\")\n",
    "Y = tf.placeholder(tf.float32, name=\"y\")\n",
    "\n",
    "w = tf.Variable([0., 0.], name=\"weights\")\n",
    "y_model = tf.sigmoid(w[1]*X + w[0])\n",
    "cost = tf.reduce_mean(-Y * tf.log(y_model)-((1-Y)*tf.log(1-y_model)))\n",
    "\n",
    "train_op = tf.train.GradientDescentOptimizer(learning_rate=learning_rate).minimize(cost)\n",
    "\n",
    "init = tf.global_variables_initializer()\n",
    "\n",
    "sess = tf.Session()\n",
    "sess.run(init)\n",
    "prev_err = 0\n",
    "for epoch in range(training_epochs):\n",
    "    err, _ = sess.run([cost, train_op], feed_dict={X: xs, Y: ys})\n",
    "    if prev_err - err > 0.0001:\n",
    "        break\n",
    "    prev_err = err\n",
    "\n",
    "w_val = sess.run(w)\n",
    "\n",
    "x_test = np.linspace(-10, 10, 100)\n",
    "\n",
    "plt.plot(x_test, sigmoid(-(x_test * w_val[1] + w_val[0])))\n",
    "plt.show()"
   ]
  },
  {
   "cell_type": "code",
   "execution_count": null,
   "metadata": {},
   "outputs": [],
   "source": [
    "# Multidimensional regression\n",
    "\n",
    "import numpy as np\n",
    "import tensorflow as tf\n",
    "import matplotlib.pyplot as plt\n",
    "\n",
    "\n",
    "learning_rate = 0.01\n",
    "training_epochs = 2000\n",
    "\n",
    "\n",
    "def sigmoid(x):\n",
    "    return 1. / (1. + np.exp(-x))\n",
    "\n",
    "\n",
    "x1_label_1 = np.random.normal(3, 1, 1000)\n",
    "x2_label_1 = np.random.normal(2, 1, 1000)\n",
    "x1_label_2 = np.random.normal(7, 1, 1000)\n",
    "x2_label_2 = np.random.normal(6, 1, 1000)\n",
    "\n",
    "x1s = np.append(x1_label_1, x1_label_2)\n",
    "x2s = np.append(x2_label_1, x2_label_2)\n",
    "ys = np.asarray([0.]*len(x1_label_1)+[1.]*len(x1_label_2))\n",
    "\n",
    "X1 = tf.placeholder(tf.float32, name=\"X1\")\n",
    "X2 = tf.placeholder(tf.float32, name=\"X2\")\n",
    "Y = tf.placeholder(tf.float32, name=\"Y\")\n",
    "W = tf.Variable([0., 0., 0.], name=\"weight_params\")\n",
    "\n",
    "y_model = tf.sigmoid(-(W[2]*X2 + W[1]*X1 + W[0]))\n",
    "cost = tf.reduce_mean(-Y * tf.log(y_model) - (1-Y) * tf.log(1 - y_model))\n",
    "\n",
    "train_op = tf.train.GradientDescentOptimizer(learning_rate).minimize(cost)\n",
    "\n",
    "with tf.Session() as sess:\n",
    "    tf.global_variables_initializer().run()\n",
    "    prev_err = 0\n",
    "    for epoch in range(training_epochs):\n",
    "        err, _ = sess.run([cost, train_op], feed_dict={X1: x1s, X2: x2s, Y: ys})\n",
    "        if abs(err-prev_err) < 0.05:\n",
    "            break\n",
    "    w_val = sess.run(W)\n",
    "    print(\"w\", w_val)\n",
    "    \n",
    "    \n",
    "x1_boundary, x2_boundary = [], []\n",
    "\n",
    "for x1_test in np.linspace(0, 10, 100):\n",
    "    for x2_test in np.linspace(0, 10, 100):\n",
    "        z = sigmoid(-(w_val[2]*x2_test+w_val[1]*x1_test+w_val[0]))\n",
    "        if abs(z - 0.5) < 0.01:\n",
    "            x1_boundary.append(x1_test)\n",
    "            x2_boundary.append(x2_test)\n",
    "\n",
    "            \n",
    "plt.scatter(x1_boundary, x2_boundary, c='b')\n",
    "plt.scatter(x1_label_1, x2_label_1, c='r')\n",
    "plt.scatter(x1_label_2, x2_label_2, c='g')\n",
    "plt.show()\n",
    "\n"
   ]
  }
 ],
 "metadata": {
  "kernelspec": {
   "display_name": "Python 2",
   "language": "python",
   "name": "python2"
  },
  "language_info": {
   "codemirror_mode": {
    "name": "ipython",
    "version": 2
   },
   "file_extension": ".py",
   "mimetype": "text/x-python",
   "name": "python",
   "nbconvert_exporter": "python",
   "pygments_lexer": "ipython2",
   "version": "2.7.6"
  }
 },
 "nbformat": 4,
 "nbformat_minor": 0
}
